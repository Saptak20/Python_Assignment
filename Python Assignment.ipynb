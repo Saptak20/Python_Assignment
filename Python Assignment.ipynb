{
 "cells": [
  {
   "cell_type": "code",
   "execution_count": null,
   "id": "b2e085ca-c570-459b-bc7f-50aed428511a",
   "metadata": {},
   "outputs": [],
   "source": [
    "# SECTION A"
   ]
  },
  {
   "cell_type": "markdown",
   "id": "7783586d-695a-4e30-97c5-c0c09e8e2873",
   "metadata": {},
   "source": [
    "1. Write a Python program to find the second largest number in \n",
    "a list without using the sort() method."
   ]
  },
  {
   "cell_type": "code",
   "execution_count": null,
   "id": "0f51e012-9133-42c7-bcf8-412f4f8372d1",
   "metadata": {},
   "outputs": [
    {
     "name": "stdout",
     "output_type": "stream",
     "text": [
      "Second maximum number is: 75\n"
     ]
    }
   ],
   "source": [
    "data = [55, 1, 45, 68, 159, 75, 5, 159]\n",
    "\n",
    "def find_second_maximum(list1):\n",
    "    first_max = max(list1[0], list1[1])\n",
    "    second_max = min(list1[0], list1[1])\n",
    "\n",
    "    for i in range(2, len(list1)):\n",
    "        if list1[i] > first_max:\n",
    "            second_max = first_max\n",
    "            first_max = list1[i]\n",
    "        elif second_max < list1[i] < first_max:\n",
    "            second_max = list1[i]\n",
    "    return second_max\n",
    "\n",
    "print(\"Second maximum number is:\", find_second_maximum(data))\n"
   ]
  },
  {
   "cell_type": "markdown",
   "id": "1cebda43-2518-4c6b-bac5-2e3424a47539",
   "metadata": {},
   "source": [
    "2. Remove duplicates from a list without using set() and\n",
    "return it in sorted order."
   ]
  },
  {
   "cell_type": "code",
   "execution_count": null,
   "id": "697a305a-df66-40db-b62d-2e8b6f38c869",
   "metadata": {},
   "outputs": [
    {
     "name": "stdout",
     "output_type": "stream",
     "text": [
      "[1, 2, 3, 4, 5]\n"
     ]
    }
   ],
   "source": [
    "def remove_duplicates_sorted(lst):\n",
    "    res = []\n",
    "    for i in lst:\n",
    "        if i not in res: res.append(i)\n",
    "    return sorted(res)\n",
    "\n",
    "print(remove_duplicates_sorted([5, 3, 1, 2, 3, 5, 4, 2]))\n"
   ]
  },
  {
   "cell_type": "markdown",
   "id": "cd1e549a-a857-4a9b-bfae-c154e984713b",
   "metadata": {},
   "source": [
    "3. Find the sum and average of a list of numbers.\n"
   ]
  },
  {
   "cell_type": "code",
   "execution_count": null,
   "id": "14893773-77b1-47fb-84bf-ac121a7c09b3",
   "metadata": {},
   "outputs": [
    {
     "name": "stdout",
     "output_type": "stream",
     "text": [
      "(50, 12.5)\n"
     ]
    }
   ],
   "source": [
    "def sum_and_average(lst):\n",
    "    total = sum(lst)\n",
    "    avg = total / len(lst)\n",
    "    return total, avg\n",
    "\n",
    "print(sum_and_average([5, 10, 15, 20]))\n"
   ]
  },
  {
   "cell_type": "markdown",
   "id": "3364d391-8ec6-4f64-a6f7-4cc482f14e73",
   "metadata": {},
   "source": [
    "4. Create a program to check if a number is prime.\n"
   ]
  },
  {
   "cell_type": "code",
   "execution_count": null,
   "id": "761048fd-f627-4ae4-b58a-901144247253",
   "metadata": {},
   "outputs": [
    {
     "name": "stdout",
     "output_type": "stream",
     "text": [
      "True\n"
     ]
    }
   ],
   "source": [
    "def is_prime(n):\n",
    "    if n <= 1: return False\n",
    "    for i in range(2, int(n**0.5)+1):\n",
    "        if n % i == 0: return False\n",
    "    return True\n",
    "\n",
    "print(is_prime(29))\n"
   ]
  },
  {
   "cell_type": "markdown",
   "id": "84c2dd6b-ea28-4c9e-8770-df225bb1a4fc",
   "metadata": {},
   "source": [
    "5. Count the number of vowels, consonants, digits, and special\n",
    "characters in a given string.\n"
   ]
  },
  {
   "cell_type": "code",
   "execution_count": null,
   "id": "433f24ff-154e-4796-aabd-a8e8a2e3b92c",
   "metadata": {},
   "outputs": [
    {
     "name": "stdout",
     "output_type": "stream",
     "text": [
      "(2, 3, 3, 2)\n"
     ]
    }
   ],
   "source": [
    "def count_chars(s):\n",
    "    v = c = d = sc = 0\n",
    "    for ch in s:\n",
    "        if ch.lower() in \"aeiou\":\n",
    "            v += 1\n",
    "        elif ch.isalpha():\n",
    "            c += 1\n",
    "        elif ch.isdigit():\n",
    "            d += 1\n",
    "        else:\n",
    "            sc += 1\n",
    "    return v, c, d, sc\n",
    "\n",
    "print(count_chars(\"Hello@123!\"))\n"
   ]
  },
  {
   "cell_type": "markdown",
   "id": "3b980a93-0901-408d-8cbf-c5aad1601e66",
   "metadata": {},
   "source": [
    "6. Print all even numbers between 1 and 100 using a for loop."
   ]
  },
  {
   "cell_type": "code",
   "execution_count": null,
   "id": "9f054044-406a-4e53-88be-5d45ee72b159",
   "metadata": {},
   "outputs": [
    {
     "name": "stdout",
     "output_type": "stream",
     "text": [
      "2\n",
      "4\n",
      "6\n",
      "8\n",
      "10\n",
      "12\n",
      "14\n",
      "16\n",
      "18\n",
      "20\n",
      "22\n",
      "24\n",
      "26\n",
      "28\n",
      "30\n",
      "32\n",
      "34\n",
      "36\n",
      "38\n",
      "40\n",
      "42\n",
      "44\n",
      "46\n",
      "48\n",
      "50\n",
      "52\n",
      "54\n",
      "56\n",
      "58\n",
      "60\n",
      "62\n",
      "64\n",
      "66\n",
      "68\n",
      "70\n",
      "72\n",
      "74\n",
      "76\n",
      "78\n",
      "80\n",
      "82\n",
      "84\n",
      "86\n",
      "88\n",
      "90\n",
      "92\n",
      "94\n",
      "96\n",
      "98\n",
      "100\n"
     ]
    }
   ],
   "source": [
    "for i in range(2, 101, 2):\n",
    "    print(i)\n"
   ]
  },
  {
   "cell_type": "markdown",
   "id": "2ce584e2-76bd-4903-9bfc-af2735580452",
   "metadata": {},
   "source": [
    "7. Write a program to print the multiplication table of a number\n",
    "entered by the user.\n"
   ]
  },
  {
   "cell_type": "code",
   "execution_count": null,
   "id": "98832a90-f62c-4e94-932d-4a9cf2c568df",
   "metadata": {},
   "outputs": [
    {
     "name": "stdout",
     "output_type": "stream",
     "text": [
      "Enter a number:  4\n"
     ]
    },
    {
     "name": "stdout",
     "output_type": "stream",
     "text": [
      "4 x 1 = 4\n",
      "4 x 2 = 8\n",
      "4 x 3 = 12\n",
      "4 x 4 = 16\n",
      "4 x 5 = 20\n",
      "4 x 6 = 24\n",
      "4 x 7 = 28\n",
      "4 x 8 = 32\n",
      "4 x 9 = 36\n",
      "4 x 10 = 40\n"
     ]
    }
   ],
   "source": [
    "n = int(input(\"Enter a number: \"))\n",
    "for i in range(1, 11):\n",
    "    print(f\"{n} x {i} = {n * i}\")\n"
   ]
  },
  {
   "cell_type": "markdown",
   "id": "cd0b3ba4-3dbf-4140-975f-fdb34f8445d7",
   "metadata": {},
   "source": [
    "8. Write a Python program to generate the first n prime\n",
    "numbers.\n"
   ]
  },
  {
   "cell_type": "code",
   "execution_count": null,
   "id": "3589a947-0788-4cd5-b8d9-9d2a6d283232",
   "metadata": {},
   "outputs": [
    {
     "name": "stdout",
     "output_type": "stream",
     "text": [
      "[15, 30, 45, 60, 75, 90]\n"
     ]
    }
   ],
   "source": [
    "lst = [i for i in range(1, 101) if i % 3 == 0 and i % 5 == 0]\n",
    "print(lst)\n"
   ]
  },
  {
   "cell_type": "markdown",
   "id": "6752761f-b1dd-4a49-bb5e-acbcb03e8560",
   "metadata": {},
   "source": [
    "9. Take a number input and print its reverse."
   ]
  },
  {
   "cell_type": "code",
   "execution_count": null,
   "id": "15a869f0-23ab-4b24-9619-aee783702ceb",
   "metadata": {},
   "outputs": [
    {
     "name": "stdout",
     "output_type": "stream",
     "text": [
      "Enter a number:  7\n"
     ]
    },
    {
     "name": "stdout",
     "output_type": "stream",
     "text": [
      "Reversed number: 7\n"
     ]
    }
   ],
   "source": [
    "n = int(input(\"Enter a number: \"))\n",
    "rev = int(str(n)[::-1])\n",
    "print(\"Reversed number:\", rev)\n"
   ]
  },
  {
   "cell_type": "markdown",
   "id": "ef0137c7-70d3-4af3-898d-7e43f76579c5",
   "metadata": {},
   "source": [
    "10. Count the frequency of each character in a string and\n",
    "store it in a dictionary."
   ]
  },
  {
   "cell_type": "code",
   "execution_count": null,
   "id": "4d73edcf-ce93-46be-9815-7841c83540e7",
   "metadata": {},
   "outputs": [
    {
     "name": "stdout",
     "output_type": "stream",
     "text": [
      "Enter a string:  9\n"
     ]
    },
    {
     "name": "stdout",
     "output_type": "stream",
     "text": [
      "{'9': 1}\n"
     ]
    }
   ],
   "source": [
    "s = input(\"Enter a string: \")\n",
    "freq = {}\n",
    "\n",
    "for ch in s:\n",
    "    if ch in freq:\n",
    "        freq[ch] += 1\n",
    "    else:\n",
    "        freq[ch] = 1\n",
    "\n",
    "print(freq)\n"
   ]
  },
  {
   "cell_type": "markdown",
   "id": "70f6a31f-5936-45ed-8f53-fa266bc90c8b",
   "metadata": {},
   "source": [
    "11. Write a Python program to generate the first n prime\n",
    "numbers.\n"
   ]
  },
  {
   "cell_type": "code",
   "execution_count": null,
   "id": "9a41c984-b3ef-44ba-ac59-4fe52255782f",
   "metadata": {},
   "outputs": [
    {
     "name": "stdout",
     "output_type": "stream",
     "text": [
      "Enter how many prime numbers you want:  3\n"
     ]
    },
    {
     "name": "stdout",
     "output_type": "stream",
     "text": [
      "2 3 5 "
     ]
    }
   ],
   "source": [
    "def is_prime(num):\n",
    "    if num <= 1:\n",
    "        return False\n",
    "    for i in range(2, int(num**0.5)+1):\n",
    "        if num % i == 0:\n",
    "            return False\n",
    "    return True\n",
    "\n",
    "n = int(input(\"Enter how many prime numbers you want: \"))\n",
    "count = 0\n",
    "num = 2\n",
    "\n",
    "while count < n:\n",
    "    if is_prime(num):\n",
    "        print(num, end=' ')\n",
    "        count += 1\n",
    "    num += 1\n"
   ]
  },
  {
   "cell_type": "markdown",
   "id": "1e9ceeeb-cdbc-479b-af0c-957f3659804c",
   "metadata": {},
   "source": [
    "12. Check whether a number is a palindrome or not.\n"
   ]
  },
  {
   "cell_type": "code",
   "execution_count": null,
   "id": "923ff0d9-04ce-41f9-bd46-161515534f10",
   "metadata": {},
   "outputs": [
    {
     "name": "stdout",
     "output_type": "stream",
     "text": [
      "Enter a number:  8\n"
     ]
    },
    {
     "name": "stdout",
     "output_type": "stream",
     "text": [
      "Palindrome\n"
     ]
    }
   ],
   "source": [
    "n = input(\"Enter a number: \")\n",
    "if n == n[::-1]:\n",
    "    print(\"Palindrome\")\n",
    "else:\n",
    "    print(\"Not Palindrome\")\n"
   ]
  },
  {
   "cell_type": "markdown",
   "id": "9f8e1d17-9157-4db0-8e41-deab18c0eaf2",
   "metadata": {},
   "source": [
    "13. Count how many times a specific element appears in a\n",
    "list."
   ]
  },
  {
   "cell_type": "code",
   "execution_count": null,
   "id": "76783f4c-3194-4992-a2b9-bb5a2f7e2c7d",
   "metadata": {},
   "outputs": [
    {
     "name": "stdout",
     "output_type": "stream",
     "text": [
      "Enter the element to count:  8\n"
     ]
    },
    {
     "name": "stdout",
     "output_type": "stream",
     "text": [
      "Count: 0\n"
     ]
    }
   ],
   "source": [
    "lst = [1, 2, 3, 2, 4, 2, 5]\n",
    "x = int(input(\"Enter the element to count: \"))\n",
    "print(\"Count:\", lst.count(x))\n"
   ]
  },
  {
   "cell_type": "markdown",
   "id": "88315e98-d35c-4c84-b7bd-bfc3cefbf03c",
   "metadata": {},
   "source": [
    "14. Create a list of squares of even numbers between 1 and 50."
   ]
  },
  {
   "cell_type": "code",
   "execution_count": null,
   "id": "7fabf5f4-9ca8-4425-83f4-37e108b8618a",
   "metadata": {},
   "outputs": [
    {
     "name": "stdout",
     "output_type": "stream",
     "text": [
      "[4, 16, 36, 64, 100, 144, 196, 256, 324, 400, 484, 576, 676, 784, 900, 1024, 1156, 1296, 1444, 1600, 1764, 1936, 2116, 2304, 2500]\n"
     ]
    }
   ],
   "source": [
    "squares = [i**2 for i in range(2, 51, 2)]\n",
    "print(squares)\n"
   ]
  },
  {
   "cell_type": "markdown",
   "id": "45718712-6837-41dd-80ac-3283a9cdb1e8",
   "metadata": {},
   "source": [
    "15. Accept a list and return a new list with only unique\n",
    "elements (preserve order)."
   ]
  },
  {
   "cell_type": "code",
   "execution_count": null,
   "id": "7659cf7e-9f4f-4c21-88ed-a19fc5be031b",
   "metadata": {},
   "outputs": [
    {
     "name": "stdout",
     "output_type": "stream",
     "text": [
      "Enter list elements separated by space:  4\n"
     ]
    },
    {
     "name": "stdout",
     "output_type": "stream",
     "text": [
      "Unique list: [4]\n"
     ]
    }
   ],
   "source": [
    "lst = list(map(int, input(\"Enter list elements separated by space: \").split()))\n",
    "unique = []\n",
    "for i in lst:\n",
    "    if i not in unique:\n",
    "        unique.append(i)\n",
    "print(\"Unique list:\", unique)\n"
   ]
  },
  {
   "cell_type": "code",
   "execution_count": null,
   "id": "373b5bfb-7a97-4821-9c88-b1d2e876c2cd",
   "metadata": {},
   "outputs": [],
   "source": [
    "# SECTION B"
   ]
  },
  {
   "cell_type": "markdown",
   "id": "f360ac81-877f-4bad-b5d1-9dd5df73d689",
   "metadata": {},
   "source": [
    "16. Write a function to check if a number is even or odd.\n"
   ]
  },
  {
   "cell_type": "code",
   "execution_count": null,
   "id": "19c3da37-17e4-4a1e-a073-e3fa2c02e80d",
   "metadata": {},
   "outputs": [
    {
     "name": "stdout",
     "output_type": "stream",
     "text": [
      "Enter a number:  3\n"
     ]
    },
    {
     "name": "stdout",
     "output_type": "stream",
     "text": [
      "Odd\n"
     ]
    }
   ],
   "source": [
    "def even_or_odd(n):\n",
    "    if n % 2 == 0:\n",
    "        return \"Even\"\n",
    "    else:\n",
    "        return \"Odd\"\n",
    "\n",
    "print(even_or_odd(int(input(\"Enter a number: \"))))\n"
   ]
  },
  {
   "cell_type": "markdown",
   "id": "d3f849dd-dd2e-41ce-930b-a4cfeb5a30b6",
   "metadata": {},
   "source": [
    "17. Create a function that takes a list of numbers and returns\n",
    "their cumulative sum.\n"
   ]
  },
  {
   "cell_type": "code",
   "execution_count": null,
   "id": "3559594b-6be9-4e52-a6bd-62ecde560eb0",
   "metadata": {},
   "outputs": [
    {
     "name": "stdout",
     "output_type": "stream",
     "text": [
      "[1, 3, 6, 10]\n"
     ]
    }
   ],
   "source": [
    "def cumulative_sum(lst):\n",
    "    total = 0\n",
    "    result = []\n",
    "    for i in lst:\n",
    "        total += i\n",
    "        result.append(total)\n",
    "    return result\n",
    "\n",
    "print(cumulative_sum([1, 2, 3, 4]))\n"
   ]
  },
  {
   "cell_type": "markdown",
   "id": "809e6dde-33d3-4ad2-b4ca-75d04e8e440f",
   "metadata": {},
   "source": [
    "18. Write a recursive function to find the factorial of a number."
   ]
  },
  {
   "cell_type": "code",
   "execution_count": null,
   "id": "84374d35-8d61-4edb-9157-3f504c575d2c",
   "metadata": {},
   "outputs": [
    {
     "name": "stdout",
     "output_type": "stream",
     "text": [
      "Enter a number:  3\n"
     ]
    },
    {
     "name": "stdout",
     "output_type": "stream",
     "text": [
      "6\n"
     ]
    }
   ],
   "source": [
    "def factorial(n):\n",
    "    if n == 0 or n == 1:\n",
    "        return 1\n",
    "    return n * factorial(n - 1)\n",
    "\n",
    "print(factorial(int(input(\"Enter a number: \"))))\n"
   ]
  },
  {
   "cell_type": "markdown",
   "id": "a3677e22-e74f-4c5c-b1ca-a7477b71f842",
   "metadata": {},
   "source": [
    "19. Write a function to print the Fibonacci series up to n terms.\n"
   ]
  },
  {
   "cell_type": "code",
   "execution_count": null,
   "id": "8e149dc2-7fbc-4b9f-814d-b85561eb37b8",
   "metadata": {},
   "outputs": [
    {
     "name": "stdout",
     "output_type": "stream",
     "text": [
      "Enter number of terms:  8\n"
     ]
    },
    {
     "name": "stdout",
     "output_type": "stream",
     "text": [
      "0 1 1 2 3 5 8 13 "
     ]
    }
   ],
   "source": [
    "def fibonacci(n):\n",
    "    a, b = 0, 1\n",
    "    for _ in range(n):\n",
    "        print(a, end=' ')\n",
    "        a, b = b, a + b\n",
    "\n",
    "fibonacci(int(input(\"Enter number of terms: \")))\n"
   ]
  },
  {
   "cell_type": "markdown",
   "id": "69b415ac-1317-4784-aab0-684e357caae8",
   "metadata": {},
   "source": [
    "20. Define a function that checks if a given string is a\n",
    "palindrome.\n"
   ]
  },
  {
   "cell_type": "code",
   "execution_count": null,
   "id": "eae33f05-6a55-4c1e-9b22-f5638703e62e",
   "metadata": {},
   "outputs": [
    {
     "name": "stdout",
     "output_type": "stream",
     "text": [
      "Enter a string:  6\n"
     ]
    },
    {
     "name": "stdout",
     "output_type": "stream",
     "text": [
      "True\n"
     ]
    }
   ],
   "source": [
    "def is_palindrome(s):\n",
    "    return s == s[::-1]\n",
    "\n",
    "print(is_palindrome(input(\"Enter a string: \")))\n"
   ]
  },
  {
   "cell_type": "markdown",
   "id": "4ed503e8-08e5-4388-8cd2-e61233bb71d2",
   "metadata": {},
   "source": [
    "21. Create a function that returns the maximum and minimum\n",
    "elements from a list.\n"
   ]
  },
  {
   "cell_type": "code",
   "execution_count": null,
   "id": "2e0462fe-5630-44ed-b247-98f41cd5296f",
   "metadata": {},
   "outputs": [
    {
     "name": "stdout",
     "output_type": "stream",
     "text": [
      "(47, 3)\n"
     ]
    }
   ],
   "source": [
    "def max_min(lst):\n",
    "    return max(lst), min(lst)\n",
    "\n",
    "print(max_min([10, 25, 3, 47, 5]))\n"
   ]
  },
  {
   "cell_type": "markdown",
   "id": "fa886f0f-6d81-45e4-9fa8-bd44f6303811",
   "metadata": {},
   "source": [
    "22. Write a function to check whether a string is a pangram.\n"
   ]
  },
  {
   "cell_type": "code",
   "execution_count": null,
   "id": "49e4f669-113a-4530-95d2-6c4ad413378a",
   "metadata": {},
   "outputs": [
    {
     "name": "stdout",
     "output_type": "stream",
     "text": [
      "Enter a sentence:  6\n"
     ]
    },
    {
     "name": "stdout",
     "output_type": "stream",
     "text": [
      "False\n"
     ]
    }
   ],
   "source": [
    "def is_pangram(s):\n",
    "    s = s.lower()\n",
    "    for ch in 'abcdefghijklmnopqrstuvwxyz':\n",
    "        if ch not in s:\n",
    "            return False\n",
    "    return True\n",
    "\n",
    "print(is_pangram(input(\"Enter a sentence: \")))\n"
   ]
  },
  {
   "cell_type": "markdown",
   "id": "bc93f52a-dc5d-4f2d-a3d4-019befcac3c8",
   "metadata": {},
   "source": [
    "23. Create a function that finds and returns all prime numbers\n",
    "in a given range.\n"
   ]
  },
  {
   "cell_type": "code",
   "execution_count": null,
   "id": "931819ae-f28d-48f8-81f3-a2311e281e91",
   "metadata": {},
   "outputs": [
    {
     "name": "stdout",
     "output_type": "stream",
     "text": [
      "[11, 13, 17, 19, 23, 29]\n"
     ]
    }
   ],
   "source": [
    "def primes_in_range(start, end):\n",
    "    primes = []\n",
    "    for num in range(start, end + 1):\n",
    "        if num > 1:\n",
    "            for i in range(2, int(num**0.5)+1):\n",
    "                if num % i == 0:\n",
    "                    break\n",
    "            else:\n",
    "                primes.append(num)\n",
    "    return primes\n",
    "\n",
    "print(primes_in_range(10, 30))\n"
   ]
  },
  {
   "cell_type": "markdown",
   "id": "91356e56-7f50-4578-9303-f178d1ed5671",
   "metadata": {},
   "source": [
    "24. Write a function to return the number of uppercase and\n",
    "lowercase letters in a string."
   ]
  },
  {
   "cell_type": "code",
   "execution_count": null,
   "id": "b3a1256b-e36d-4bfc-93e2-6e48a39bd0c3",
   "metadata": {},
   "outputs": [
    {
     "name": "stdout",
     "output_type": "stream",
     "text": [
      "Enter a string:  9\n"
     ]
    },
    {
     "name": "stdout",
     "output_type": "stream",
     "text": [
      "(0, 0)\n"
     ]
    }
   ],
   "source": [
    "def count_case(s):\n",
    "    upper = lower = 0\n",
    "    for ch in s:\n",
    "        if ch.isupper():\n",
    "            upper += 1\n",
    "        elif ch.islower():\n",
    "            lower += 1\n",
    "    return upper, lower\n",
    "\n",
    "print(count_case(input(\"Enter a string: \")))\n"
   ]
  },
  {
   "cell_type": "markdown",
   "id": "9527ff06-f922-4a2b-b079-0620f3a2736f",
   "metadata": {},
   "source": [
    "25. Write a function to compute the sum of digits of a number.\n"
   ]
  },
  {
   "cell_type": "code",
   "execution_count": null,
   "id": "199c46da-bfb3-4fe0-96e7-d9ef56ae0a80",
   "metadata": {},
   "outputs": [
    {
     "name": "stdout",
     "output_type": "stream",
     "text": [
      "Enter a number:  8\n"
     ]
    },
    {
     "name": "stdout",
     "output_type": "stream",
     "text": [
      "8\n"
     ]
    }
   ],
   "source": [
    "def sum_of_digits(n):\n",
    "    return sum(int(d) for d in str(n))\n",
    "\n",
    "print(sum_of_digits(int(input(\"Enter a number: \"))))\n"
   ]
  },
  {
   "cell_type": "markdown",
   "id": "ad40aafd-d7eb-4536-8f48-bb9e0611a79d",
   "metadata": {},
   "source": [
    "26. Write a function to count words in a sentence."
   ]
  },
  {
   "cell_type": "code",
   "execution_count": null,
   "id": "29368925-80ef-4003-8616-11153275b4f5",
   "metadata": {},
   "outputs": [
    {
     "name": "stdout",
     "output_type": "stream",
     "text": [
      "Enter a sentence:  I love Coding.\n"
     ]
    },
    {
     "name": "stdout",
     "output_type": "stream",
     "text": [
      "3\n"
     ]
    }
   ],
   "source": [
    "def count_words(s):\n",
    "    return len(s.split())\n",
    "\n",
    "print(count_words(input(\"Enter a sentence: \")))\n"
   ]
  },
  {
   "cell_type": "markdown",
   "id": "2adad766-a7c8-4c8e-9303-82ed7b2f6925",
   "metadata": {},
   "source": [
    "27. Create a function to remove all punctuation from a string.\n"
   ]
  },
  {
   "cell_type": "code",
   "execution_count": null,
   "id": "be0f8ba6-a258-458a-b1cc-d37d335816cf",
   "metadata": {},
   "outputs": [
    {
     "name": "stdout",
     "output_type": "stream",
     "text": [
      "Enter a string:  Sap65tak\n"
     ]
    },
    {
     "name": "stdout",
     "output_type": "stream",
     "text": [
      "Sap65tak\n"
     ]
    }
   ],
   "source": [
    "import string\n",
    "\n",
    "def remove_punctuation(s):\n",
    "    return ''.join(ch for ch in s if ch not in string.punctuation)\n",
    "\n",
    "print(remove_punctuation(input(\"Enter a string: \")))\n"
   ]
  },
  {
   "cell_type": "markdown",
   "id": "5246c14a-26cc-47ca-b0fb-fa4d0990f538",
   "metadata": {},
   "source": [
    "28. Create a function that finds the GCD (greatest common\n",
    "divisor) of two numbers."
   ]
  },
  {
   "cell_type": "code",
   "execution_count": null,
   "id": "d1f5b23e-0ef2-4e99-8316-1dd4351ed615",
   "metadata": {},
   "outputs": [
    {
     "name": "stdout",
     "output_type": "stream",
     "text": [
      "6\n"
     ]
    }
   ],
   "source": [
    "def find_gcd(a, b):\n",
    "    while b:\n",
    "        a, b = b, a % b\n",
    "    return a\n",
    "\n",
    "print(find_gcd(48, 18))\n"
   ]
  },
  {
   "cell_type": "markdown",
   "id": "3ad08673-c982-4376-b223-1b6808db2f40",
   "metadata": {},
   "source": [
    "29. Write a function that takes a list and returns only those\n",
    "elements that appear more than once.\n"
   ]
  },
  {
   "cell_type": "code",
   "execution_count": null,
   "id": "e7011407-75f7-4e37-9046-a228c948cf18",
   "metadata": {},
   "outputs": [
    {
     "name": "stdout",
     "output_type": "stream",
     "text": [
      "[1, 2]\n"
     ]
    }
   ],
   "source": [
    "def find_duplicates(lst):\n",
    "    result = []\n",
    "    for i in lst:\n",
    "        if lst.count(i) > 1 and i not in result:\n",
    "            result.append(i)\n",
    "    return result\n",
    "\n",
    "print(find_duplicates([1, 2, 3, 2, 4, 5, 1, 6]))\n"
   ]
  },
  {
   "cell_type": "markdown",
   "id": "ba4408ed-2ddd-47ba-a4ad-2ec1c6d3eb6c",
   "metadata": {},
   "source": [
    "30. Create a function to return the largest of three numbers."
   ]
  },
  {
   "cell_type": "code",
   "execution_count": null,
   "id": "cc4f3393-51b7-4198-aa46-58c7a86d6195",
   "metadata": {},
   "outputs": [
    {
     "name": "stdout",
     "output_type": "stream",
     "text": [
      "25\n"
     ]
    }
   ],
   "source": [
    "def largest(a, b, c):\n",
    "    return max(a, b, c)\n",
    "\n",
    "print(largest(10, 25, 17))\n"
   ]
  },
  {
   "cell_type": "code",
   "execution_count": null,
   "id": "81e59f39-8891-4975-a65d-3415ab84b29a",
   "metadata": {},
   "outputs": [],
   "source": [
    "# SECTION C"
   ]
  },
  {
   "cell_type": "markdown",
   "id": "ffcda06f-54e3-48af-9626-607b5688cbab",
   "metadata": {},
   "source": [
    "31. Write a program to sort words in a sentence\n",
    "alphabetically.\n"
   ]
  },
  {
   "cell_type": "code",
   "execution_count": null,
   "id": "71cdc4a2-0450-4cd2-a4f2-de737db5cdae",
   "metadata": {},
   "outputs": [
    {
     "name": "stdout",
     "output_type": "stream",
     "text": [
      "Enter a sentence:  I love sleeping.\n"
     ]
    },
    {
     "name": "stdout",
     "output_type": "stream",
     "text": [
      "Sorted words: ['I', 'love', 'sleeping.']\n"
     ]
    }
   ],
   "source": [
    "s = input(\"Enter a sentence: \")\n",
    "words = s.split()\n",
    "words.sort()\n",
    "print(\"Sorted words:\", words)\n"
   ]
  },
  {
   "cell_type": "markdown",
   "id": "640f6835-2634-410c-8fdc-9688120f372b",
   "metadata": {},
   "source": [
    "32. Concatenate two dictionaries and print the result."
   ]
  },
  {
   "cell_type": "code",
   "execution_count": null,
   "id": "8e958837-a42d-43a6-9a45-a4d13b2d3195",
   "metadata": {},
   "outputs": [
    {
     "name": "stdout",
     "output_type": "stream",
     "text": [
      "Merged dictionary: {'a': 1, 'b': 2, 'c': 3, 'd': 4}\n"
     ]
    }
   ],
   "source": [
    "dict1 = {'a': 1, 'b': 2}\n",
    "dict2 = {'c': 3, 'd': 4}\n",
    "\n",
    "merged = {**dict1, **dict2}\n",
    "print(\"Merged dictionary:\", merged)\n"
   ]
  },
  {
   "cell_type": "markdown",
   "id": "75bf4aea-a53c-4fba-8573-92c82f72e4b5",
   "metadata": {},
   "source": [
    "33. Count how many vowels are present in each word of a\n",
    "sentence."
   ]
  },
  {
   "cell_type": "code",
   "execution_count": null,
   "id": "f71735b6-e84b-4f9e-906f-5848429693bf",
   "metadata": {},
   "outputs": [
    {
     "name": "stdout",
     "output_type": "stream",
     "text": [
      "Enter a sentence:  This is business.\n"
     ]
    },
    {
     "name": "stdout",
     "output_type": "stream",
     "text": [
      "This: 1\n",
      "is: 1\n",
      "business.: 3\n"
     ]
    }
   ],
   "source": [
    "def count_vowels_per_word(sentence):\n",
    "    vowels = \"aeiouAEIOU\"\n",
    "    words = sentence.split()\n",
    "    for word in words:\n",
    "        count = sum(1 for ch in word if ch in vowels)\n",
    "        print(f\"{word}: {count}\")\n",
    "\n",
    "count_vowels_per_word(input(\"Enter a sentence: \"))\n"
   ]
  },
  {
   "cell_type": "markdown",
   "id": "c61dd741-2383-499c-ba15-c15971b28981",
   "metadata": {},
   "source": [
    "34. Accept a tuple and convert it into a list."
   ]
  },
  {
   "cell_type": "code",
   "execution_count": null,
   "id": "a5971538-1ecf-4aa8-9da1-b278cd19d288",
   "metadata": {},
   "outputs": [
    {
     "name": "stdout",
     "output_type": "stream",
     "text": [
      "Enter tuple elements separated by space:  3,5,6,7,8\n"
     ]
    },
    {
     "name": "stdout",
     "output_type": "stream",
     "text": [
      "List: ['3,5,6,7,8']\n"
     ]
    }
   ],
   "source": [
    "t = tuple(input(\"Enter tuple elements separated by space: \").split())\n",
    "lst = list(t)\n",
    "print(\"List:\", lst)\n",
    "\n"
   ]
  },
  {
   "cell_type": "markdown",
   "id": "cdcbb7f4-bf64-4f99-b9cb-fd0c3e6de485",
   "metadata": {},
   "source": [
    "35. Remove all whitespace from a given string using a\n",
    "function.\n"
   ]
  },
  {
   "cell_type": "code",
   "execution_count": null,
   "id": "49a1355e-3f7f-4c1a-8a4a-b4f7817b8154",
   "metadata": {},
   "outputs": [
    {
     "name": "stdout",
     "output_type": "stream",
     "text": [
      "Enter a string:  Hand s o me\n"
     ]
    },
    {
     "name": "stdout",
     "output_type": "stream",
     "text": [
      "Handsome\n"
     ]
    }
   ],
   "source": [
    "def remove_whitespace(s):\n",
    "    return s.replace(\" \", \"\")\n",
    "\n",
    "print(remove_whitespace(input(\"Enter a string: \")))\n"
   ]
  },
  {
   "cell_type": "markdown",
   "id": "07145c32-0678-4b99-b943-2aa6965adfb4",
   "metadata": {},
   "source": [
    "36. Merge two lists into a dictionary using one as keys and the\n",
    "other as values."
   ]
  },
  {
   "cell_type": "code",
   "execution_count": null,
   "id": "bef319e8-b873-46e4-b0c4-8cde79bceeae",
   "metadata": {},
   "outputs": [
    {
     "name": "stdout",
     "output_type": "stream",
     "text": [
      "Enter keys separated by space:  4 6 7 \n",
      "Enter values separated by space:  234 567\n"
     ]
    },
    {
     "name": "stdout",
     "output_type": "stream",
     "text": [
      "Merged dictionary: {'4': '234', '6': '567'}\n"
     ]
    }
   ],
   "source": [
    "keys = input(\"Enter keys separated by space: \").split()\n",
    "values = input(\"Enter values separated by space: \").split()\n",
    "\n",
    "merged = dict(zip(keys, values))\n",
    "print(\"Merged dictionary:\", merged)\n"
   ]
  },
  {
   "cell_type": "markdown",
   "id": "1c633d2a-c0ad-48a3-89a0-4148ddc4e92b",
   "metadata": {},
   "source": [
    "37. Write a program to get the key with the maximum value in\n",
    "a dictionary."
   ]
  },
  {
   "cell_type": "code",
   "execution_count": null,
   "id": "b49bedf2-f7ff-407c-b61b-338f05a2cb7f",
   "metadata": {},
   "outputs": [
    {
     "name": "stdout",
     "output_type": "stream",
     "text": [
      "Key with maximum value: b\n"
     ]
    }
   ],
   "source": [
    "data = {'a': 10, 'b': 25, 'c': 17}\n",
    "max_key = max(data, key=data.get)\n",
    "print(\"Key with maximum value:\", max_key)\n"
   ]
  },
  {
   "cell_type": "markdown",
   "id": "9c3753a4-7da8-492c-a591-e9038d7e5c15",
   "metadata": {},
   "source": [
    "38. Accept a string and print a dictionary with word\n",
    "frequencies."
   ]
  },
  {
   "cell_type": "code",
   "execution_count": null,
   "id": "8f7ab1b8-8cfe-4e96-b17a-f0bdc95f447c",
   "metadata": {},
   "outputs": [
    {
     "name": "stdout",
     "output_type": "stream",
     "text": [
      "Enter a sentence:  This is Awesome.\n"
     ]
    },
    {
     "name": "stdout",
     "output_type": "stream",
     "text": [
      "Word frequencies: {'This': 1, 'is': 1, 'Awesome.': 1}\n"
     ]
    }
   ],
   "source": [
    "s = input(\"Enter a sentence: \")\n",
    "words = s.split()\n",
    "freq = {}\n",
    "\n",
    "for word in words:\n",
    "    freq[word] = freq.get(word, 0) + 1\n",
    "\n",
    "print(\"Word frequencies:\", freq)\n"
   ]
  },
  {
   "cell_type": "markdown",
   "id": "936a2ee4-75c2-45d2-8bf3-964a7022c4a8",
   "metadata": {},
   "source": [
    "39. Write a program to check if a key exists in a dictionary."
   ]
  },
  {
   "cell_type": "code",
   "execution_count": null,
   "id": "9fbb8919-dc64-41c9-979a-c1255f03d8c8",
   "metadata": {},
   "outputs": [
    {
     "name": "stdout",
     "output_type": "stream",
     "text": [
      "Enter key to check:  Paris\n"
     ]
    },
    {
     "name": "stdout",
     "output_type": "stream",
     "text": [
      "Key does not exist.\n"
     ]
    }
   ],
   "source": [
    "data = {'name': 'Alice', 'age': 25, 'city': 'Paris'}\n",
    "key = input(\"Enter key to check: \")\n",
    "\n",
    "if key in data:\n",
    "    print(\"Key exists.\")\n",
    "else:\n",
    "    print(\"Key does not exist.\")\n"
   ]
  },
  {
   "cell_type": "markdown",
   "id": "d4d82e6e-e4af-496f-88ab-14c4dcb9498d",
   "metadata": {},
   "source": [
    "40. Write a program to replace all the vowels in a string with\n",
    "'*'."
   ]
  },
  {
   "cell_type": "code",
   "execution_count": null,
   "id": "bc1cc323-566f-41f5-baf3-753b1126237c",
   "metadata": {},
   "outputs": [
    {
     "name": "stdout",
     "output_type": "stream",
     "text": [
      "Enter a string:  Batman\n"
     ]
    },
    {
     "name": "stdout",
     "output_type": "stream",
     "text": [
      "B*tm*n\n"
     ]
    }
   ],
   "source": [
    "def replace_vowels(s):\n",
    "    vowels = \"aeiouAEIOU\"\n",
    "    return ''.join('*' if ch in vowels else ch for ch in s)\n",
    "\n",
    "print(replace_vowels(input(\"Enter a string: \")))\n"
   ]
  },
  {
   "cell_type": "code",
   "execution_count": null,
   "id": "1aefccf6-51b6-464c-aa59-72cf9056385e",
   "metadata": {},
   "outputs": [],
   "source": [
    "# SECTION D"
   ]
  },
  {
   "cell_type": "markdown",
   "id": "9f92f2b1-3a38-49f9-a575-12df9446ae2a",
   "metadata": {},
   "source": [
    "41. Write a Python program to read the contents of a file and\n",
    "display it."
   ]
  },
  {
   "cell_type": "code",
   "execution_count": null,
   "id": "719722cd-1f18-4a8a-914d-fd644ccebfbc",
   "metadata": {},
   "outputs": [
    {
     "name": "stdout",
     "output_type": "stream",
     "text": [
      "This is sample content.\n"
     ]
    }
   ],
   "source": [
    "open(\"example.txt\", \"w\").write(\"This is sample content.\")\n",
    "print(open(\"example.txt\").read())\n"
   ]
  },
  {
   "cell_type": "code",
   "execution_count": null,
   "id": "d5a4bc93-e320-4cc7-b770-3057c9878729",
   "metadata": {},
   "outputs": [
    {
     "name": "stdout",
     "output_type": "stream",
     "text": [
      "This is sample content.\n"
     ]
    }
   ],
   "source": [
    "f = open(\"example.txt\")\n",
    "print(f.read())\n",
    "f.close()\n"
   ]
  },
  {
   "cell_type": "markdown",
   "id": "20bdbbde-73ca-43c4-a349-08c650ca13e2",
   "metadata": {},
   "source": [
    "42. Count the number of words in a file.\n"
   ]
  },
  {
   "cell_type": "code",
   "execution_count": null,
   "id": "d1181526-a88d-4359-8a56-2ff3eca8d85f",
   "metadata": {},
   "outputs": [
    {
     "name": "stdout",
     "output_type": "stream",
     "text": [
      "Word count: 4\n"
     ]
    }
   ],
   "source": [
    "f = open(\"example.txt\")\n",
    "words = f.read().split()\n",
    "print(\"Word count:\", len(words))\n",
    "f.close()\n"
   ]
  },
  {
   "cell_type": "markdown",
   "id": "9b84dd8d-5667-4183-80a4-663abe292aff",
   "metadata": {},
   "source": [
    "43. Copy contents of one file to another."
   ]
  },
  {
   "cell_type": "code",
   "execution_count": null,
   "id": "7f935fd1-8048-4ed5-9fa0-d998043ebcf6",
   "metadata": {},
   "outputs": [],
   "source": [
    "f1 = open(\"example.txt\", \"r\")\n",
    "f2 = open(\"copy.txt\", \"w\")\n",
    "f2.write(f1.read())\n",
    "f1.close()\n",
    "f2.close()\n"
   ]
  },
  {
   "cell_type": "markdown",
   "id": "f34f1c21-eb7d-4aac-88ed-b6c34a24051c",
   "metadata": {},
   "source": [
    "44. Print only the lines that have more than 50 characters\n",
    "from a text file."
   ]
  },
  {
   "cell_type": "code",
   "execution_count": null,
   "id": "8a8c97fd-2300-4ae0-b795-7749b9918b4f",
   "metadata": {},
   "outputs": [],
   "source": [
    "with open(\"example.txt\", \"r\") as f:\n",
    "    for line in f:\n",
    "        if len(line.strip()) > 50:\n",
    "            print(line.strip())\n"
   ]
  },
  {
   "cell_type": "markdown",
   "id": "712d6ac6-9355-43aa-bc9a-2ad31e4ab738",
   "metadata": {},
   "source": [
    "45. Write a program to write a list of strings into a text file (one\n",
    "string per line)."
   ]
  },
  {
   "cell_type": "code",
   "execution_count": null,
   "id": "87dc1f7b-2af2-46c9-9edc-28ec58e6df28",
   "metadata": {},
   "outputs": [],
   "source": [
    "lines = [\"Hello\", \"Python\", \"File Writing\", \"Done\"]\n",
    "with open(\"output.txt\", \"w\") as f:\n",
    "    for line in lines:\n",
    "        f.write(line + \"\\n\")\n"
   ]
  },
  {
   "cell_type": "code",
   "execution_count": null,
   "id": "d5628090-effd-4854-ba67-963e6157aeb6",
   "metadata": {},
   "outputs": [],
   "source": [
    "# SECTION E"
   ]
  },
  {
   "cell_type": "markdown",
   "id": "370824a1-8539-428e-bdb6-bdc1df8b3b01",
   "metadata": {},
   "source": [
    "46. Write a program to take two numbers as input and handle\n",
    "division by zero."
   ]
  },
  {
   "cell_type": "code",
   "execution_count": null,
   "id": "b68f4e9d-adc6-4092-bddd-8d428f92da5e",
   "metadata": {},
   "outputs": [
    {
     "name": "stdout",
     "output_type": "stream",
     "text": [
      "Enter first number:  45\n",
      "Enter second number:  32\n"
     ]
    },
    {
     "name": "stdout",
     "output_type": "stream",
     "text": [
      "Result: 1.40625\n"
     ]
    }
   ],
   "source": [
    "try:\n",
    "    a = int(input(\"Enter first number: \"))\n",
    "    b = int(input(\"Enter second number: \"))\n",
    "    result = a / b\n",
    "    print(\"Result:\", result)\n",
    "except ZeroDivisionError:\n",
    "    print(\"Error: Cannot divide by zero.\")\n"
   ]
  },
  {
   "cell_type": "markdown",
   "id": "c739c1f5-a285-4a6a-a0ff-bc1632129035",
   "metadata": {},
   "source": [
    "47. Handle invalid user input (e.g., entering a string when a\n",
    "number is expected)."
   ]
  },
  {
   "cell_type": "code",
   "execution_count": null,
   "id": "74dd787d-f91d-44e0-9b67-75d14624022b",
   "metadata": {},
   "outputs": [
    {
     "name": "stdout",
     "output_type": "stream",
     "text": [
      "Enter a number:  34\n"
     ]
    },
    {
     "name": "stdout",
     "output_type": "stream",
     "text": [
      "You entered: 34\n"
     ]
    }
   ],
   "source": [
    "try:\n",
    "    num = int(input(\"Enter a number: \"))\n",
    "    print(\"You entered:\", num)\n",
    "except ValueError:\n",
    "    print(\"Invalid input! Please enter a valid number.\")\n"
   ]
  },
  {
   "cell_type": "markdown",
   "id": "4545a4e6-6062-4924-8f9a-17229172acfe",
   "metadata": {},
   "source": [
    "48. Try to open a file that doesn’t exist and handle the\n",
    "FileNotFoundError.\n"
   ]
  },
  {
   "cell_type": "code",
   "execution_count": null,
   "id": "c94c9fe8-0d4e-4954-80b5-e5b4bb1381e2",
   "metadata": {},
   "outputs": [
    {
     "name": "stdout",
     "output_type": "stream",
     "text": [
      "Error: File not found.\n"
     ]
    }
   ],
   "source": [
    "try:\n",
    "    f = open(\"nonexistent.txt\", \"r\")\n",
    "    print(f.read())\n",
    "    f.close()\n",
    "except FileNotFoundError:\n",
    "    print(\"Error: File not found.\")\n"
   ]
  },
  {
   "cell_type": "markdown",
   "id": "852e0694-ccd1-4743-b011-76dc41bfd5d4",
   "metadata": {},
   "source": [
    "49. Create a list of numbers and try accessing an invalid\n",
    "index. Handle the exception gracefully.\n"
   ]
  },
  {
   "cell_type": "code",
   "execution_count": null,
   "id": "227e5ce2-700b-45c1-9ce1-eda78983d864",
   "metadata": {},
   "outputs": [
    {
     "name": "stdout",
     "output_type": "stream",
     "text": [
      "Enter index to access:  3\n"
     ]
    },
    {
     "name": "stdout",
     "output_type": "stream",
     "text": [
      "Value: 40\n"
     ]
    }
   ],
   "source": [
    "nums = [10, 20, 30, 40]\n",
    "\n",
    "try:\n",
    "    index = int(input(\"Enter index to access: \"))\n",
    "    print(\"Value:\", nums[index])\n",
    "except IndexError:\n",
    "    print(\"Error: Invalid index.\")\n"
   ]
  },
  {
   "cell_type": "markdown",
   "id": "b19d7774-2416-4796-973b-cf7dac10a42d",
   "metadata": {},
   "source": [
    "50. Use a try-except-finally block to demonstrate the\n",
    "execution of the finally clause."
   ]
  },
  {
   "cell_type": "code",
   "execution_count": null,
   "id": "b2201bb0-00f0-480a-ae88-52f18faed2b0",
   "metadata": {},
   "outputs": [
    {
     "name": "stdout",
     "output_type": "stream",
     "text": [
      "Enter a number:  7\n"
     ]
    },
    {
     "name": "stdout",
     "output_type": "stream",
     "text": [
      "Result: 1.4285714285714286\n",
      "This block always runs (finally clause).\n"
     ]
    }
   ],
   "source": [
    "try:\n",
    "    x = int(input(\"Enter a number: \"))\n",
    "    y = 10 / x\n",
    "    print(\"Result:\", y)\n",
    "except ZeroDivisionError:\n",
    "    print(\"Cannot divide by zero.\")\n",
    "finally:\n",
    "    print(\"This block always runs (finally clause).\")\n"
   ]
  },
  {
   "cell_type": "code",
   "execution_count": null,
   "id": "fe47cade-941b-4300-a38c-d5a04bc2b027",
   "metadata": {},
   "outputs": [],
   "source": []
  }
 ],
 "metadata": {
  "kernelspec": {
   "display_name": "Python 3 (ipykernel)",
   "language": "python",
   "name": "python3"
  },
  "language_info": {
   "codemirror_mode": {
    "name": "ipython",
    "version": 3
   },
   "file_extension": ".py",
   "mimetype": "text/x-python",
   "name": "python",
   "nbconvert_exporter": "python",
   "pygments_lexer": "ipython3",
   "version": "3.11.5"
  }
 },
 "nbformat": 4,
 "nbformat_minor": 5
}
